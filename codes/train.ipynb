{
  "nbformat": 4,
  "nbformat_minor": 0,
  "metadata": {
    "colab": {
      "name": "Train.ipynb",
      "provenance": [],
      "collapsed_sections": []
    },
    "kernelspec": {
      "name": "python3",
      "display_name": "Python 3"
    },
    "accelerator": "GPU"
  },
  "cells": [
    {
      "cell_type": "code",
      "metadata": {
        "id": "kpr2-_tLsmES",
        "colab_type": "code",
        "colab": {}
      },
      "source": [
        "from google.colab import drive\n",
        "drive.mount('/content/drive')"
      ],
      "execution_count": 0,
      "outputs": []
    },
    {
      "cell_type": "code",
      "metadata": {
        "id": "YLTEK8j0sxEP",
        "colab_type": "code",
        "colab": {}
      },
      "source": [
        "!pip install pydrive\n",
        "import pydrive\n",
        "from pydrive.auth import GoogleAuth\n",
        "from pydrive.drive import GoogleDrive\n",
        "from google.colab import auth\n",
        "from oauth2client.client import GoogleCredentials\n",
        "\n",
        "# 1. Authenticate and create the PyDrive client.\n",
        "auth.authenticate_user()\n",
        "gauth = GoogleAuth()\n",
        "gauth.credentials = GoogleCredentials.get_application_default()\n",
        "drive = GoogleDrive(gauth)"
      ],
      "execution_count": 0,
      "outputs": []
    },
    {
      "cell_type": "code",
      "metadata": {
        "id": "I9D7X6H9T3E2",
        "colab_type": "code",
        "colab": {}
      },
      "source": [
        "## To import Training Data\n",
        "def get_file_from_drive(file_name):\n",
        "  file_list = drive.ListFile({'q': \"'1vsl4F2NQoUN5ov0vee39mLnALX01DKU6' in parents and trashed=false\"}).GetList()\n",
        "  for file in file_list:\n",
        "    if(file['title'] == file_name):\n",
        "      return file['id']"
      ],
      "execution_count": 0,
      "outputs": []
    },
    {
      "cell_type": "code",
      "metadata": {
        "id": "FTGI0siq15co",
        "colab_type": "code",
        "colab": {}
      },
      "source": [
        "## To import Validation Data\n",
        "def get_file_from_drive(file_name):\n",
        "  file_list = drive.ListFile({'q': \"'17nYS9E1qRCrJBpS00KMmCHRyQwK84zc1' in parents and trashed=false\"}).GetList()\n",
        "  for file in file_list:\n",
        "    if(file['title'] == file_name):\n",
        "      return file['id']"
      ],
      "execution_count": 0,
      "outputs": []
    },
    {
      "cell_type": "code",
      "metadata": {
        "id": "BPEHoyNEKIlo",
        "colab_type": "code",
        "colab": {}
      },
      "source": [
        "# ## To import Models\n",
        "# def get_file_from_drive(file_name):\n",
        "#   file_list = drive.ListFile({'q': \"'1K_POvFkuMLSVN4Qrcpr7dMfP2syslRdH' in parents and trashed=false\"}).GetList()\n",
        "#   for file in file_list:\n",
        "#     if(file['title'] == file_name):\n",
        "#       return file['id']"
      ],
      "execution_count": 0,
      "outputs": []
    },
    {
      "cell_type": "code",
      "metadata": {
        "id": "VSK6z3BbVGWA",
        "colab_type": "code",
        "colab": {}
      },
      "source": [
        "def upload_data_system(file_name):\n",
        "  downloaded = drive.CreateFile({'id': get_file_from_drive(file_name)})\n",
        "  downloaded.GetContentFile(file_name)"
      ],
      "execution_count": 0,
      "outputs": []
    },
    {
      "cell_type": "code",
      "metadata": {
        "id": "N3iLQUjVY89U",
        "colab_type": "code",
        "colab": {}
      },
      "source": [
        "## Importing Training Data\n",
        "\n",
        "file_name = 'X_train.npy'\n",
        "\n",
        "print(\"Importing data from drive...\")\n",
        "print('Importing X_train...')\n",
        "upload_data_system(file_name)"
      ],
      "execution_count": 0,
      "outputs": []
    },
    {
      "cell_type": "code",
      "metadata": {
        "id": "_4jcSULR1VIq",
        "colab_type": "code",
        "colab": {}
      },
      "source": [
        "## Importing Validation data\n",
        "\n",
        "file_name_1 = 'X_test.npy'\n",
        "# file_name_2 = 'Y_test.npy'\n",
        "\n",
        "print('Importing data from drive...')\n",
        "print('Importing X_test')\n",
        "upload_data_system(file_name_1)\n",
        "# print('Importing Y_test')\n",
        "# upload_data_system(file_name_2)"
      ],
      "execution_count": 0,
      "outputs": []
    },
    {
      "cell_type": "code",
      "metadata": {
        "id": "TalVrfOAJm8I",
        "colab_type": "code",
        "colab": {}
      },
      "source": [
        "## Importing Model\n",
        "\n",
        "file_name = 'model_046.hdf5'\n",
        "\n",
        "print('Importing Model ' + file_name)\n",
        "upload_data_system(file_name)"
      ],
      "execution_count": 0,
      "outputs": []
    },
    {
      "cell_type": "code",
      "metadata": {
        "id": "iNk69f9nZTDu",
        "colab_type": "code",
        "colab": {}
      },
      "source": [
        "import numpy as np\n",
        "import matplotlib.pyplot as plt\n",
        "import glob\n",
        "import re\n",
        "from keras.layers import Conv2D, Activation, BatchNormalization, Input, Subtract\n",
        "from keras.models import Model, load_model\n",
        "from keras.optimizers import Adam\n",
        "from keras.callbacks import ModelCheckpoint, LearningRateScheduler\n",
        "import keras.backend as K\n",
        "\n",
        "%matplotlib inline"
      ],
      "execution_count": 0,
      "outputs": []
    },
    {
      "cell_type": "code",
      "metadata": {
        "id": "rrnqLqxjzyHt",
        "colab_type": "code",
        "colab": {}
      },
      "source": [
        "X_train = np.load('X_train.npy')\n",
        "X_test = np.load('X_test.npy')"
      ],
      "execution_count": 0,
      "outputs": []
    },
    {
      "cell_type": "code",
      "metadata": {
        "id": "gp2qWGmrOnPR",
        "colab_type": "code",
        "colab": {}
      },
      "source": [
        "Y_test = []\n",
        "for image in X_test:\n",
        "  noise = np.random.randint(0, 55)\n",
        "  noisy_image = image + noise\n",
        "  Y_test.append(noisy_image)\n",
        "Y_test = np.array(Y_test)"
      ],
      "execution_count": 0,
      "outputs": []
    },
    {
      "cell_type": "code",
      "metadata": {
        "id": "f5SLxDZdeTba",
        "colab_type": "code",
        "colab": {}
      },
      "source": [
        "def DnCNN_S(depth):\n",
        "\n",
        "    inpt = Input(shape = (None, None, 1))\n",
        "    x = Conv2D(filters = 64, kernel_size = (3, 3), strides = (1, 1), padding = 'same', kernel_initializer = 'orthogonal')(inpt)\n",
        "    x = Activation(activation = 'relu')(x)\n",
        "\n",
        "    for i in range(depth - 2):\n",
        "        x = Conv2D(filters = 64, kernel_size = (3, 3), strides=(1, 1), padding='same', kernel_initializer='orthogonal')(x)\n",
        "        x = BatchNormalization()(x)\n",
        "        x = Activation(activation='relu')(x)\n",
        "\n",
        "    x = Conv2D(filters = 1, kernel_size = (3, 3), strides = (1, 1), padding = 'same', kernel_initializer = 'orthogonal')(x)\n",
        "    x = Subtract()([inpt, x])\n",
        "\n",
        "    model = Model(inputs = inpt, outputs = x)\n",
        "\n",
        "    print(model.summary())\n",
        "    return model"
      ],
      "execution_count": 0,
      "outputs": []
    },
    {
      "cell_type": "code",
      "metadata": {
        "id": "0QIMQAxkeYU6",
        "colab_type": "code",
        "colab": {}
      },
      "source": [
        "def data_generator(epochs, batch_size):\n",
        "\n",
        "  while True:\n",
        "    for i in range(0, epochs):\n",
        "        indices = list(range(X_train.shape[0]))\n",
        "        np.random.shuffle(indices)\n",
        "        for j in range(0, X_train.shape[0] // batch_size, batch_size):\n",
        "            sigma = np.random.randint(0, 55)\n",
        "            X_train_batch = X_train[indices[j:j+batch_size]]\n",
        "            X_train_batch = X_train_batch.astype('float32') / 255.0\n",
        "            noise = np.random.normal(0, sigma / 255.0, X_train_batch.shape)\n",
        "            Y_train_batch = X_train_batch + noise\n",
        "\n",
        "            yield Y_train_batch, X_train_batch\n",
        "\n",
        "def lr_schedule(epoch):\n",
        "\n",
        "    initial_lr = 0.001\n",
        "\n",
        "    if epoch <= 30:\n",
        "        lr = initial_lr\n",
        "    elif epoch <= 60:\n",
        "        lr = initial_lr / 10\n",
        "    elif epoch <= 80:\n",
        "        lr = initial_lr/20\n",
        "    else:\n",
        "        lr = initial_lr/20\n",
        "\n",
        "    print('current learning rate is %2.8f' %lr)\n",
        "\n",
        "    return lr\n",
        "\n",
        "def find_initial_epoch():\n",
        "    file_list = glob.glob('model_*.hdf5')\n",
        "    initial_epoch = 0\n",
        "\n",
        "    if file_list:\n",
        "        epochs_finished = []\n",
        "        for file_ in file_list:\n",
        "            result = re.findall(\"model_(.*).hdf5.*\",file_)\n",
        "            epochs_finished.append(int(result[0]))\n",
        "        initial_epoch = max(epochs_finished)\n",
        "\n",
        "    return initial_epoch\n",
        "\n",
        "def sum_squared_error(y_true, y_pred):\n",
        "    #return K.mean(K.square(y_pred - y_true), axis=-1)\n",
        "    #return K.sum(K.square(y_pred - y_true), axis=-1)/2\n",
        "    return K.sum(K.square(y_pred - y_true))/2"
      ],
      "execution_count": 0,
      "outputs": []
    },
    {
      "cell_type": "code",
      "metadata": {
        "id": "C2eNaZ_Iehpv",
        "colab_type": "code",
        "outputId": "56c599fd-bc4e-4cb2-b4fe-fa6f49695ae3",
        "colab": {
          "base_uri": "https://localhost:8080/",
          "height": 2822
        }
      },
      "source": [
        "print(\"Setting up Model...\")\n",
        "model = DnCNN_S(20)\n",
        "\n",
        "checkpoint = ModelCheckpoint(\"model_{epoch:03d}.hdf5\", save_weights_only = False, period = 1, verbose = 1)\n",
        "lr_scheduler = LearningRateScheduler(lr_schedule)\n",
        "\n",
        "initial_epoch = find_initial_epoch()\n",
        "\n",
        "if(initial_epoch > 0):\n",
        "    print('Resuming by loading epoch %03d' % initial_epoch)\n",
        "    model = load_model('model_%03d.hdf5' % initial_epoch, compile = False)\n",
        "\n",
        "model.compile(loss = sum_squared_error, optimizer = Adam(0.001))\n",
        "\n",
        "print(\"Training Model...\")\n",
        "History = model.fit_generator(data_generator(epochs = 50, batch_size = 64), steps_per_epoch = 2520, epochs = 50,\n",
        "                              callbacks = [checkpoint, lr_scheduler], initial_epoch = initial_epoch, validation_data = (X_test, Y_test))\n",
        "\n",
        "plt.plot(History.history['mean_squared_error'])\n",
        "plt.title('LOSS VS EPOCH')\n",
        "plt.ylabel('Mean_Squared_Error')\n",
        "plt.xlabel('Epoch')\n",
        "plt.show()"
      ],
      "execution_count": 0,
      "outputs": [
        {
          "output_type": "stream",
          "text": [
            "Setting up Model...\n",
            "__________________________________________________________________________________________________\n",
            "Layer (type)                    Output Shape         Param #     Connected to                     \n",
            "==================================================================================================\n",
            "input_2 (InputLayer)            (None, None, None, 1 0                                            \n",
            "__________________________________________________________________________________________________\n",
            "conv2d_21 (Conv2D)              (None, None, None, 6 640         input_2[0][0]                    \n",
            "__________________________________________________________________________________________________\n",
            "activation_20 (Activation)      (None, None, None, 6 0           conv2d_21[0][0]                  \n",
            "__________________________________________________________________________________________________\n",
            "conv2d_22 (Conv2D)              (None, None, None, 6 36928       activation_20[0][0]              \n",
            "__________________________________________________________________________________________________\n",
            "batch_normalization_19 (BatchNo (None, None, None, 6 256         conv2d_22[0][0]                  \n",
            "__________________________________________________________________________________________________\n",
            "activation_21 (Activation)      (None, None, None, 6 0           batch_normalization_19[0][0]     \n",
            "__________________________________________________________________________________________________\n",
            "conv2d_23 (Conv2D)              (None, None, None, 6 36928       activation_21[0][0]              \n",
            "__________________________________________________________________________________________________\n",
            "batch_normalization_20 (BatchNo (None, None, None, 6 256         conv2d_23[0][0]                  \n",
            "__________________________________________________________________________________________________\n",
            "activation_22 (Activation)      (None, None, None, 6 0           batch_normalization_20[0][0]     \n",
            "__________________________________________________________________________________________________\n",
            "conv2d_24 (Conv2D)              (None, None, None, 6 36928       activation_22[0][0]              \n",
            "__________________________________________________________________________________________________\n",
            "batch_normalization_21 (BatchNo (None, None, None, 6 256         conv2d_24[0][0]                  \n",
            "__________________________________________________________________________________________________\n",
            "activation_23 (Activation)      (None, None, None, 6 0           batch_normalization_21[0][0]     \n",
            "__________________________________________________________________________________________________\n",
            "conv2d_25 (Conv2D)              (None, None, None, 6 36928       activation_23[0][0]              \n",
            "__________________________________________________________________________________________________\n",
            "batch_normalization_22 (BatchNo (None, None, None, 6 256         conv2d_25[0][0]                  \n",
            "__________________________________________________________________________________________________\n",
            "activation_24 (Activation)      (None, None, None, 6 0           batch_normalization_22[0][0]     \n",
            "__________________________________________________________________________________________________\n",
            "conv2d_26 (Conv2D)              (None, None, None, 6 36928       activation_24[0][0]              \n",
            "__________________________________________________________________________________________________\n",
            "batch_normalization_23 (BatchNo (None, None, None, 6 256         conv2d_26[0][0]                  \n",
            "__________________________________________________________________________________________________\n",
            "activation_25 (Activation)      (None, None, None, 6 0           batch_normalization_23[0][0]     \n",
            "__________________________________________________________________________________________________\n",
            "conv2d_27 (Conv2D)              (None, None, None, 6 36928       activation_25[0][0]              \n",
            "__________________________________________________________________________________________________\n",
            "batch_normalization_24 (BatchNo (None, None, None, 6 256         conv2d_27[0][0]                  \n",
            "__________________________________________________________________________________________________\n",
            "activation_26 (Activation)      (None, None, None, 6 0           batch_normalization_24[0][0]     \n",
            "__________________________________________________________________________________________________\n",
            "conv2d_28 (Conv2D)              (None, None, None, 6 36928       activation_26[0][0]              \n",
            "__________________________________________________________________________________________________\n",
            "batch_normalization_25 (BatchNo (None, None, None, 6 256         conv2d_28[0][0]                  \n",
            "__________________________________________________________________________________________________\n",
            "activation_27 (Activation)      (None, None, None, 6 0           batch_normalization_25[0][0]     \n",
            "__________________________________________________________________________________________________\n",
            "conv2d_29 (Conv2D)              (None, None, None, 6 36928       activation_27[0][0]              \n",
            "__________________________________________________________________________________________________\n",
            "batch_normalization_26 (BatchNo (None, None, None, 6 256         conv2d_29[0][0]                  \n",
            "__________________________________________________________________________________________________\n",
            "activation_28 (Activation)      (None, None, None, 6 0           batch_normalization_26[0][0]     \n",
            "__________________________________________________________________________________________________\n",
            "conv2d_30 (Conv2D)              (None, None, None, 6 36928       activation_28[0][0]              \n",
            "__________________________________________________________________________________________________\n",
            "batch_normalization_27 (BatchNo (None, None, None, 6 256         conv2d_30[0][0]                  \n",
            "__________________________________________________________________________________________________\n",
            "activation_29 (Activation)      (None, None, None, 6 0           batch_normalization_27[0][0]     \n",
            "__________________________________________________________________________________________________\n",
            "conv2d_31 (Conv2D)              (None, None, None, 6 36928       activation_29[0][0]              \n",
            "__________________________________________________________________________________________________\n",
            "batch_normalization_28 (BatchNo (None, None, None, 6 256         conv2d_31[0][0]                  \n",
            "__________________________________________________________________________________________________\n",
            "activation_30 (Activation)      (None, None, None, 6 0           batch_normalization_28[0][0]     \n",
            "__________________________________________________________________________________________________\n",
            "conv2d_32 (Conv2D)              (None, None, None, 6 36928       activation_30[0][0]              \n",
            "__________________________________________________________________________________________________\n",
            "batch_normalization_29 (BatchNo (None, None, None, 6 256         conv2d_32[0][0]                  \n",
            "__________________________________________________________________________________________________\n",
            "activation_31 (Activation)      (None, None, None, 6 0           batch_normalization_29[0][0]     \n",
            "__________________________________________________________________________________________________\n",
            "conv2d_33 (Conv2D)              (None, None, None, 6 36928       activation_31[0][0]              \n",
            "__________________________________________________________________________________________________\n",
            "batch_normalization_30 (BatchNo (None, None, None, 6 256         conv2d_33[0][0]                  \n",
            "__________________________________________________________________________________________________\n",
            "activation_32 (Activation)      (None, None, None, 6 0           batch_normalization_30[0][0]     \n",
            "__________________________________________________________________________________________________\n",
            "conv2d_34 (Conv2D)              (None, None, None, 6 36928       activation_32[0][0]              \n",
            "__________________________________________________________________________________________________\n",
            "batch_normalization_31 (BatchNo (None, None, None, 6 256         conv2d_34[0][0]                  \n",
            "__________________________________________________________________________________________________\n",
            "activation_33 (Activation)      (None, None, None, 6 0           batch_normalization_31[0][0]     \n",
            "__________________________________________________________________________________________________\n",
            "conv2d_35 (Conv2D)              (None, None, None, 6 36928       activation_33[0][0]              \n",
            "__________________________________________________________________________________________________\n",
            "batch_normalization_32 (BatchNo (None, None, None, 6 256         conv2d_35[0][0]                  \n",
            "__________________________________________________________________________________________________\n",
            "activation_34 (Activation)      (None, None, None, 6 0           batch_normalization_32[0][0]     \n",
            "__________________________________________________________________________________________________\n",
            "conv2d_36 (Conv2D)              (None, None, None, 6 36928       activation_34[0][0]              \n",
            "__________________________________________________________________________________________________\n",
            "batch_normalization_33 (BatchNo (None, None, None, 6 256         conv2d_36[0][0]                  \n",
            "__________________________________________________________________________________________________\n",
            "activation_35 (Activation)      (None, None, None, 6 0           batch_normalization_33[0][0]     \n",
            "__________________________________________________________________________________________________\n",
            "conv2d_37 (Conv2D)              (None, None, None, 6 36928       activation_35[0][0]              \n",
            "__________________________________________________________________________________________________\n",
            "batch_normalization_34 (BatchNo (None, None, None, 6 256         conv2d_37[0][0]                  \n",
            "__________________________________________________________________________________________________\n",
            "activation_36 (Activation)      (None, None, None, 6 0           batch_normalization_34[0][0]     \n",
            "__________________________________________________________________________________________________\n",
            "conv2d_38 (Conv2D)              (None, None, None, 6 36928       activation_36[0][0]              \n",
            "__________________________________________________________________________________________________\n",
            "batch_normalization_35 (BatchNo (None, None, None, 6 256         conv2d_38[0][0]                  \n",
            "__________________________________________________________________________________________________\n",
            "activation_37 (Activation)      (None, None, None, 6 0           batch_normalization_35[0][0]     \n",
            "__________________________________________________________________________________________________\n",
            "conv2d_39 (Conv2D)              (None, None, None, 6 36928       activation_37[0][0]              \n",
            "__________________________________________________________________________________________________\n",
            "batch_normalization_36 (BatchNo (None, None, None, 6 256         conv2d_39[0][0]                  \n",
            "__________________________________________________________________________________________________\n",
            "activation_38 (Activation)      (None, None, None, 6 0           batch_normalization_36[0][0]     \n",
            "__________________________________________________________________________________________________\n",
            "conv2d_40 (Conv2D)              (None, None, None, 1 577         activation_38[0][0]              \n",
            "__________________________________________________________________________________________________\n",
            "subtract_2 (Subtract)           (None, None, None, 1 0           input_2[0][0]                    \n",
            "                                                                 conv2d_40[0][0]                  \n",
            "==================================================================================================\n",
            "Total params: 670,529\n",
            "Trainable params: 668,225\n",
            "Non-trainable params: 2,304\n",
            "__________________________________________________________________________________________________\n",
            "None\n",
            "Training Model...\n",
            "Epoch 1/50\n",
            "current learning rate is 0.00100000\n",
            "2520/2520 [==============================] - 1286s 510ms/step - loss: 440.3457 - val_loss: 78144068.6540\n",
            "\n",
            "Epoch 00001: saving model to model_001.hdf5\n",
            "Epoch 2/50\n",
            "current learning rate is 0.00100000\n",
            "2520/2520 [==============================] - 1282s 509ms/step - loss: 245.4405 - val_loss: 78136256.4825\n",
            "\n",
            "Epoch 00002: saving model to model_002.hdf5\n",
            "Epoch 3/50\n",
            "current learning rate is 0.00100000\n",
            "2520/2520 [==============================] - 1279s 507ms/step - loss: 205.3727 - val_loss: 78132229.8794\n",
            "\n",
            "Epoch 00003: saving model to model_003.hdf5\n",
            "Epoch 4/50\n",
            "current learning rate is 0.00100000\n",
            "2520/2520 [==============================] - 1284s 510ms/step - loss: 191.4990 - val_loss: 78101504.3365\n",
            "\n",
            "Epoch 00004: saving model to model_004.hdf5\n",
            "Epoch 5/50\n",
            "current learning rate is 0.00100000\n",
            "2520/2520 [==============================] - 1287s 511ms/step - loss: 212.0450 - val_loss: 79194557.1492\n",
            "\n",
            "Epoch 00005: saving model to model_005.hdf5\n",
            "Epoch 6/50\n",
            "current learning rate is 0.00100000\n",
            "2520/2520 [==============================] - 1287s 511ms/step - loss: 205.9355 - val_loss: 78133083.7206\n",
            "\n",
            "Epoch 00006: saving model to model_006.hdf5\n",
            "Epoch 7/50\n",
            "current learning rate is 0.00100000\n",
            "2520/2520 [==============================] - 1287s 511ms/step - loss: 189.8519 - val_loss: 78081364.0635\n",
            "\n",
            "Epoch 00007: saving model to model_007.hdf5\n",
            "Epoch 8/50\n",
            "current learning rate is 0.00100000\n",
            "  29/2520 [..............................] - ETA: 19:47 - loss: 218.2698"
          ],
          "name": "stdout"
        }
      ]
    },
    {
      "cell_type": "code",
      "metadata": {
        "id": "eoH2AX8xvFu0",
        "colab_type": "code",
        "colab": {}
      },
      "source": [
        "print(History.history.keys())"
      ],
      "execution_count": 0,
      "outputs": []
    },
    {
      "cell_type": "code",
      "metadata": {
        "id": "0q0Z4GAmCPWN",
        "colab_type": "code",
        "colab": {}
      },
      "source": [
        "plt.plot(History.history['loss'])\n",
        "plt.plot(History.history['val_loss'])\n",
        "plt.title('LOSS VS EPOCH')\n",
        "plt.ylabel('Loss')\n",
        "plt.xlabel('Epoch')\n",
        "plt.show()"
      ],
      "execution_count": 0,
      "outputs": []
    },
    {
      "cell_type": "code",
      "metadata": {
        "id": "Euv4663C_kUu",
        "colab_type": "code",
        "colab": {}
      },
      "source": [
        ""
      ],
      "execution_count": 0,
      "outputs": []
    }
  ]
}